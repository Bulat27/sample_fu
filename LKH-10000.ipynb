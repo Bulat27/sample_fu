{
 "cells": [
  {
   "cell_type": "markdown",
   "metadata": {},
   "source": [
    "### LKH-3 for Traveling Salesman Problem"
   ]
  },
  {
   "cell_type": "code",
   "execution_count": 1,
   "metadata": {},
   "outputs": [],
   "source": [
    "from data.data_generator import convert_tsplib\n",
    "import numpy as np\n",
    "import time\n",
    "from data.data_generator import tsp_instances_generator"
   ]
  },
  {
   "cell_type": "code",
   "execution_count": null,
   "metadata": {},
   "outputs": [],
   "source": [
    "num_nodes = 10000\n",
    "num_sample = 2\n",
    "string = ''\n",
    "for i in range(2*num_nodes):\n",
    "    string += str(np.random.uniform()) + ' '\n",
    "string += 'output'\n",
    "for i in range(num_nodes):\n",
    "    string += ' ' + str(i+1)\n",
    "string += ' 1 \\n'\n",
    "testset_tsp = [string]"
   ]
  },
  {
   "cell_type": "code",
   "execution_count": null,
   "metadata": {
    "scrolled": true
   },
   "outputs": [],
   "source": [
    "#buff_coor = np.zeros(shape=(num_nodes, 2), dtype = np.float64)\n",
    "sum_gap = 0\n",
    "sum_time = 0\n",
    "LKH_costs = []\n",
    "for num_instance, derivate in enumerate(testset_tsp):\n",
    "    DM, OPT, OUTPUT = convert_tsplib(derivate, num_node=num_nodes, num_instance=num_instance)\n",
    "    Shell_lkh = './LKH-3.0.6/LKH ./LKH-3.0.6/data/tsp{}/uniform{}.par'.format(num_nodes, num_instance)\n",
    "    \n",
    "    start = time.time()\n",
    "    !$Shell_lkh\n",
    "    end = time.time()\n",
    "    \n",
    "    delta_time = end - start\n",
    "    sum_time += delta_time\n",
    "    \n",
    "    with open(OUTPUT, 'r') as f:\n",
    "        lines = f.readlines()\n",
    "        LKH_opt = np.array(lines[6:6+num_nodes], dtype = np.int32)\n",
    "        LKH_opt = np.append(LKH_opt, 1)\n",
    "        LKH_opt -= 1\n",
    "    LKH_opt_cost = np.sum(DM[LKH_opt[:-1], LKH_opt[1:]])\n",
    "    \n",
    "    OPT_cost = np.sum(DM[OPT[:-1], OPT[1:]])\n",
    "    \n",
    "    LKH_costs.append(LKH_opt_cost)\n",
    "    gap = compute_gap(opt_cost=OPT_cost, lopt_cost=LKH_opt_cost)\n",
    "    sum_gap+=gap\n",
    "\n",
    "print('mean length is {}'.format(np.mean(LKH_costs)))\n",
    "print('mean gap is {}'.format(sum_gap/(num_instance+1)))\n",
    "print('mean execute time is {}'.format(sum_time/(num_instance+1)))"
   ]
  },
  {
   "cell_type": "code",
   "execution_count": null,
   "metadata": {},
   "outputs": [],
   "source": [
    "print(delta_time)"
   ]
  },
  {
   "cell_type": "code",
   "execution_count": null,
   "metadata": {},
   "outputs": [],
   "source": [
    "print('mean length is {}'.format(np.mean(LKH_costs)))\n",
    "print('mean gap is {}'.format(sum_gap/(num_instance+1)))\n",
    "print('mean execute time is {}'.format(sum_time/(num_instance+1)))"
   ]
  },
  {
   "cell_type": "code",
   "execution_count": null,
   "metadata": {},
   "outputs": [],
   "source": [
    "print('mean execute time is {}'.format(sum_time/(num_instance+1)))"
   ]
  },
  {
   "cell_type": "code",
   "execution_count": null,
   "metadata": {},
   "outputs": [],
   "source": [
    "print('mean gap is {}'.format(sum_gap/(num_instance+1)))\n",
    "print('mean execute time is {}'.format((end - start)/(num_instance+1)))"
   ]
  },
  {
   "cell_type": "code",
   "execution_count": null,
   "metadata": {},
   "outputs": [],
   "source": [
    "sum_time/60"
   ]
  }
 ],
 "metadata": {
  "kernelspec": {
   "display_name": "Python 3",
   "language": "python",
   "name": "python3"
  },
  "language_info": {
   "codemirror_mode": {
    "name": "ipython",
    "version": 3
   },
   "file_extension": ".py",
   "mimetype": "text/x-python",
   "name": "python",
   "nbconvert_exporter": "python",
   "pygments_lexer": "ipython3",
   "version": "3.7.2"
  }
 },
 "nbformat": 4,
 "nbformat_minor": 2
}
